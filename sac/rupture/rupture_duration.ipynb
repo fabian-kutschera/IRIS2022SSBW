{
 "cells": [
  {
   "cell_type": "code",
   "execution_count": 1,
   "id": "e318df0e-36d7-4caf-89c2-0e33d925017b",
   "metadata": {},
   "outputs": [],
   "source": [
    "import pandas as pd"
   ]
  },
  {
   "cell_type": "code",
   "execution_count": 14,
   "id": "f8d781b6-7577-421c-a741-8be61b4d3661",
   "metadata": {},
   "outputs": [
    {
     "data": {
      "text/html": [
       "<div>\n",
       "<style scoped>\n",
       "    .dataframe tbody tr th:only-of-type {\n",
       "        vertical-align: middle;\n",
       "    }\n",
       "\n",
       "    .dataframe tbody tr th {\n",
       "        vertical-align: top;\n",
       "    }\n",
       "\n",
       "    .dataframe thead th {\n",
       "        text-align: right;\n",
       "    }\n",
       "</style>\n",
       "<table border=\"1\" class=\"dataframe\">\n",
       "  <thead>\n",
       "    <tr style=\"text-align: right;\">\n",
       "      <th></th>\n",
       "      <th>Station</th>\n",
       "      <th>Rd</th>\n",
       "    </tr>\n",
       "  </thead>\n",
       "  <tbody>\n",
       "    <tr>\n",
       "      <th>0</th>\n",
       "      <td>ULN</td>\n",
       "      <td>43</td>\n",
       "    </tr>\n",
       "    <tr>\n",
       "      <th>1</th>\n",
       "      <td>MAJO</td>\n",
       "      <td>44</td>\n",
       "    </tr>\n",
       "    <tr>\n",
       "      <th>2</th>\n",
       "      <td>MIDW</td>\n",
       "      <td>45</td>\n",
       "    </tr>\n",
       "    <tr>\n",
       "      <th>3</th>\n",
       "      <td>TARA</td>\n",
       "      <td>45</td>\n",
       "    </tr>\n",
       "    <tr>\n",
       "      <th>4</th>\n",
       "      <td>PMG</td>\n",
       "      <td>48</td>\n",
       "    </tr>\n",
       "  </tbody>\n",
       "</table>\n",
       "</div>"
      ],
      "text/plain": [
       "  Station  Rd\n",
       "0     ULN  43\n",
       "1    MAJO  44\n",
       "2    MIDW  45\n",
       "3    TARA  45\n",
       "4     PMG  48"
      ]
     },
     "execution_count": 14,
     "metadata": {},
     "output_type": "execute_result"
    }
   ],
   "source": [
    "df = pd.read_csv(\"rupture_duration.txt\",sep=\" \", header=None, names=[\"Station\", \"Rd\"])\n",
    "df.head()"
   ]
  },
  {
   "cell_type": "code",
   "execution_count": 15,
   "id": "aae2a625-1b37-41d8-b044-b405ce15d7e2",
   "metadata": {},
   "outputs": [
    {
     "data": {
      "text/html": [
       "<div>\n",
       "<style scoped>\n",
       "    .dataframe tbody tr th:only-of-type {\n",
       "        vertical-align: middle;\n",
       "    }\n",
       "\n",
       "    .dataframe tbody tr th {\n",
       "        vertical-align: top;\n",
       "    }\n",
       "\n",
       "    .dataframe thead th {\n",
       "        text-align: right;\n",
       "    }\n",
       "</style>\n",
       "<table border=\"1\" class=\"dataframe\">\n",
       "  <thead>\n",
       "    <tr style=\"text-align: right;\">\n",
       "      <th></th>\n",
       "      <th>Rd</th>\n",
       "    </tr>\n",
       "  </thead>\n",
       "  <tbody>\n",
       "    <tr>\n",
       "      <th>count</th>\n",
       "      <td>18.000000</td>\n",
       "    </tr>\n",
       "    <tr>\n",
       "      <th>mean</th>\n",
       "      <td>49.888889</td>\n",
       "    </tr>\n",
       "    <tr>\n",
       "      <th>std</th>\n",
       "      <td>7.003267</td>\n",
       "    </tr>\n",
       "    <tr>\n",
       "      <th>min</th>\n",
       "      <td>41.000000</td>\n",
       "    </tr>\n",
       "    <tr>\n",
       "      <th>25%</th>\n",
       "      <td>44.000000</td>\n",
       "    </tr>\n",
       "    <tr>\n",
       "      <th>50%</th>\n",
       "      <td>48.500000</td>\n",
       "    </tr>\n",
       "    <tr>\n",
       "      <th>75%</th>\n",
       "      <td>55.750000</td>\n",
       "    </tr>\n",
       "    <tr>\n",
       "      <th>max</th>\n",
       "      <td>63.000000</td>\n",
       "    </tr>\n",
       "  </tbody>\n",
       "</table>\n",
       "</div>"
      ],
      "text/plain": [
       "              Rd\n",
       "count  18.000000\n",
       "mean   49.888889\n",
       "std     7.003267\n",
       "min    41.000000\n",
       "25%    44.000000\n",
       "50%    48.500000\n",
       "75%    55.750000\n",
       "max    63.000000"
      ]
     },
     "execution_count": 15,
     "metadata": {},
     "output_type": "execute_result"
    }
   ],
   "source": [
    "df.describe()"
   ]
  },
  {
   "cell_type": "markdown",
   "id": "9bbbc5ec-b599-4e7e-8890-ed78d0dfeabf",
   "metadata": {},
   "source": [
    "#### Minimum rupture duration\n",
    "\n",
    "$Td_{min} = L\\cdot(1/Vr - 1/Vp)$\n",
    "\n",
    "#### Maximum rupture duration\n",
    "\n",
    "$Td_{max} = L\\cdot(1/Vr + 1/Vp)$\n",
    "\n",
    "#### Mean (average) rupture duration\n",
    "\n",
    "$Td_{mean} = L/Vr$"
   ]
  },
  {
   "cell_type": "code",
   "execution_count": 35,
   "id": "bb19617f-897c-42c5-9a7c-594c200cc9f2",
   "metadata": {},
   "outputs": [],
   "source": [
    "vp = 12 # km/s\n",
    "Tdmin = min(df[\"Rd\"]) # s\n",
    "Tdmax = max(df[\"Rd\"]) #s \n",
    "Tdmean = df[\"Rd\"].mean() # s"
   ]
  },
  {
   "cell_type": "code",
   "execution_count": 37,
   "id": "d4008a43-044d-42e9-985b-d637aac25552",
   "metadata": {},
   "outputs": [
    {
     "name": "stdout",
     "output_type": "stream",
     "text": [
      "The minimum rupture duration is 41, the maximum rupture duration is 63 and the mean is 49.89.\n"
     ]
    }
   ],
   "source": [
    "print(\"The minimum rupture duration is {}, the maximum rupture duration is {} and the mean is {:2.2f}.\".format(Tdmin, Tdmax, Tdmean))"
   ]
  },
  {
   "cell_type": "markdown",
   "id": "7baa31de-3306-42bd-9635-3c1f3186160c",
   "metadata": {},
   "source": [
    "#### Rupture Length\n",
    "\n",
    "$Td_{max} - Td_{min} = 2L/V_p$\n",
    "\n",
    "$\\Rightarrow L = (Td_{max} - Td_{min})*V_p/2$"
   ]
  },
  {
   "cell_type": "code",
   "execution_count": 41,
   "id": "3b1e1623-b6e5-456f-baeb-0e04945cb0b2",
   "metadata": {},
   "outputs": [
    {
     "data": {
      "text/plain": [
       "132.0"
      ]
     },
     "execution_count": 41,
     "metadata": {},
     "output_type": "execute_result"
    }
   ],
   "source": [
    "L = (Tdmax - Tdmin)*vp/2\n",
    "L # km"
   ]
  },
  {
   "cell_type": "markdown",
   "id": "6c66807f-3df6-429d-be36-cc659d8d73fc",
   "metadata": {},
   "source": [
    "##### Rupture rate\n",
    "\n",
    "$Td_{max} + Td_{min} = 2L/V_r$\n",
    "\n",
    "$\\Rightarrow V_r = 2L/(Td_{max} + Td_{min}$)"
   ]
  },
  {
   "cell_type": "code",
   "execution_count": 43,
   "id": "2af8d26d-0fd3-457e-a6d3-115b6e3c6962",
   "metadata": {},
   "outputs": [
    {
     "data": {
      "text/plain": [
       "2.5384615384615383"
      ]
     },
     "execution_count": 43,
     "metadata": {},
     "output_type": "execute_result"
    }
   ],
   "source": [
    "vr = 2*L / (Tdmax + Tdmin)\n",
    "vr # km/s"
   ]
  }
 ],
 "metadata": {
  "kernelspec": {
   "display_name": "base",
   "language": "python",
   "name": "python3"
  },
  "language_info": {
   "codemirror_mode": {
    "name": "ipython",
    "version": 3
   },
   "file_extension": ".py",
   "mimetype": "text/x-python",
   "name": "python",
   "nbconvert_exporter": "python",
   "pygments_lexer": "ipython3",
   "version": "3.9.7"
  }
 },
 "nbformat": 4,
 "nbformat_minor": 5
}
